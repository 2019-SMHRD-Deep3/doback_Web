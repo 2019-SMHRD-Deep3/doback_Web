{
 "cells": [
  {
   "cell_type": "code",
   "execution_count": null,
   "metadata": {},
   "outputs": [],
   "source": []
  },
  {
   "cell_type": "code",
   "execution_count": 3,
   "metadata": {},
   "outputs": [],
   "source": []
  },
  {
   "cell_type": "code",
   "execution_count": 1,
   "metadata": {
    "scrolled": true
   },
   "outputs": [
    {
     "name": "stderr",
     "output_type": "stream",
     "text": [
      "C:\\ProgramData\\Anaconda3\\lib\\site-packages\\ipykernel_launcher.py:2: DeprecationWarning: The import 'werkzeug.secure_filename' is deprecated and will be removed in Werkzeug 1.0. Use 'from werkzeug.utils import secure_filename' instead.\n",
      "  \n",
      " * Running on http://172.30.1.18:9000/ (Press CTRL+C to quit)\n"
     ]
    },
    {
     "name": "stdout",
     "output_type": "stream",
     "text": [
      "text1\n",
      "User :  1\n",
      "5\n"
     ]
    },
    {
     "name": "stderr",
     "output_type": "stream",
     "text": [
      "172.30.1.18 - - [08/May/2020 11:00:06] \"\u001b[32mPOST /test HTTP/1.1\u001b[0m\" 302 -\n"
     ]
    }
   ],
   "source": [
    "from flask import Flask, redirect, request, session\n",
    "from werkzeug import secure_filename \n",
    "from matplotlib.pyplot import imread\n",
    "import matplotlib.pyplot as plt\n",
    "from PIL import Image\n",
    "import numpy as np\n",
    "import librosa\n",
    "from python_speech_features import mfcc\n",
    "import os\n",
    "import tensorflow as tf\n",
    "from tensorflow.keras.models import load_model\n",
    "\n",
    "final_model1= load_model('./model/STTfianl0503_006_0.958.hdf5')\n",
    "final_model2 = load_model('./model/STTUSUK0502_042_0.863.hdf5')\n",
    "\n",
    "\n",
    "\n",
    "def calc_features(filename):\n",
    "    y,sr = librosa.load(filename)\n",
    "    max_pad_len=600\n",
    "    #Melspectrogram\n",
    "    ms0 = librosa.feature.melspectrogram(y=y,sr=sr,n_fft=512,hop_length=256)\n",
    "    #데이터수가 max_pad_len보다 작으면 padding, 크면 잘라내기\n",
    "    pad_width = max_pad_len - ms0.shape[1]\n",
    "\n",
    "    if pad_width > 0:\n",
    "        y_melspec = np.pad(ms0, pad_width=((0,0),(0,pad_width)),mode='constant')\n",
    "    else:\n",
    "        y_melspec = ms0[...,:max_pad_len]\n",
    "\n",
    "    y_logmelspec = librosa.power_to_db(y_melspec, ref = np.median)\n",
    "\n",
    "    return y_logmelspec\n",
    "\n",
    "#from keras.models import load_model\n",
    "# model = load_model('')\n",
    "\n",
    "app = Flask(__name__)\n",
    "\n",
    "@app.route(\"/test\",methods=['GET','POST'])\n",
    "def test():\n",
    "    print('text1')\n",
    "    if request.method==\"POST\":\n",
    "        f = request.files.getlist(\"file[]\")\n",
    "        user = request.values.get('wordvoca')\n",
    "        userinfo = request.values.get(\"userinfo\")\n",
    "        recordfiles1=[]\n",
    "        for i in f:\n",
    "            fname = './recorddata/'+str(secure_filename(i.filename))\n",
    "            recordfiles1.append(fname)\n",
    "            i.save(fname)#파일 저장\n",
    "#     for i in recordfiles1:\n",
    "#         print(i)\n",
    "        \n",
    "    \n",
    "    print(\"User : \",str(userinfo))\n",
    "    \n",
    "    list1=[]\n",
    "    for j in recordfiles1:\n",
    "        a= calc_features(j)\n",
    "        list1.append(a)\n",
    "#     for i in list1 :\n",
    "#         print(list1)\n",
    "    list1 = np.array(list1)\n",
    "    length = len(list1)\n",
    "    print(length)\n",
    "#     for k in list1:\n",
    "#         k = k.reshape(1,128,600,1)\n",
    "    list1= list1.reshape(length,128,600,1)\n",
    "#    list1 = np.array(list1)\n",
    "    sim4=[]\n",
    "    sim5=[]\n",
    "#     for i in range(len(list1)):\n",
    "#         global sim2\n",
    "    sim2= final_model1.predict(list1)\n",
    "#         sim4.append(sim2[i][1])\n",
    "\n",
    "#     for i in range(len(list1)):\n",
    "#         global sim3\n",
    "    sim3 = final_model2.predict(list1)\n",
    "#        sim5.append(sim3)\n",
    "#     sim4.append(final_model1.predict(list1))\n",
    "#     sim5.append(final_model2.predict(list1))\n",
    "    sim10 = []\n",
    "    for u in range(len(sim2)):\n",
    "        sim10.append(sim2[u][1])\n",
    "\n",
    "    resultUS1 = []\n",
    "    for p in range(len(sim3)):\n",
    "        resultUS1.append(sim3[p][0])\n",
    "\n",
    "    resultUK1 = []\n",
    "    for p in range(len(sim3)):\n",
    "        resultUK1.append(sim3[p][1])\n",
    "    \n",
    "    resultUS = \"\"\n",
    "    for i in range(len(resultUS1)):\n",
    "        if i != len(resultUS1):\n",
    "            resultUS = resultUS + \"\" + str(resultUS1[i]*100)+\",\"\n",
    "        else :\n",
    "            resultUS = resultUS + \"\" + str(resultUS1[i]*100)\n",
    "    \n",
    "    resultUK = \"\"\n",
    "    for i in range(len(resultUK1)):\n",
    "        if i != len(resultUS1):\n",
    "            resultUK = resultUK + \"\" + str(resultUK1[i]*100)+\",\"\n",
    "        else :\n",
    "            resultUK = resultUK + \"\" + str(resultUK1[i]*100)\n",
    "            \n",
    "    sim=\"\"\n",
    "    \n",
    "    for i in range(len(sim10)):\n",
    "        if i != len(sim10):\n",
    "            sim = sim + \"\" + str(sim10[i]*100)+\",\"\n",
    "        else :\n",
    "            sim = sim + \"\" + str(sim10[i]*100)\n",
    "    recordfiles=\"\"\n",
    "    for i in range(len(recordfiles1)):\n",
    "        if i != len(recordfiles1):\n",
    "            recordfiles = recordfiles + \"\" + str(recordfiles1[i])+\",\"\n",
    "        else :\n",
    "            recordfiles = recordfiles + \"\" + str(recordfiles1[i])\n",
    "    \n",
    "    return redirect(\"http://172.30.1.18:8087/Doback/Receivemfcc?result=\"+\n",
    "                    str(sim)+\"&resultUK=\"\n",
    "                    +str(resultUK)+\"&resultUS=\"+str(resultUS)+\n",
    "                   \"&record=\"+recordfiles+\"&word=\"+str(user)+\"&user=\"+str(userinfo))\n",
    "\n",
    "\n",
    "# @app.route(\"/tt\",methods=['GET','POST'])\n",
    "# def tt():\n",
    "#     print('text2')\n",
    "#     if request.method==\"POST\":\n",
    "#         f = request.files[\"file\"]\n",
    "#         fname = './recorddata/'+str(secure_filename(f.filename)) \n",
    "#         ffname=''\n",
    "#         f.save(fname)#파일 저장\n",
    "        \n",
    "#     print(fname)\n",
    "#     list1=[]\n",
    "#     a= calc_features(fname)\n",
    "#     list1.append(a)\n",
    "#     list1 = np.array(list1)\n",
    "#     list1 = list1.reshape(1,128,600,1)\n",
    "#     sim2 =final_model2.predict(list1)\n",
    "#     sim=sim2[0][1]\n",
    "#     print(sim2)\n",
    "    \n",
    "    \n",
    "#     return redirect(\"http://172.30.1.18:8087/Doback/Receivemfcc?result=\"+str(sim))\n",
    "    \n",
    "if __name__ == '__main__':\n",
    "    from werkzeug.serving import run_simple\n",
    "    run_simple('172.30.1.18', 9000, app)"
   ]
  },
  {
   "cell_type": "code",
   "execution_count": 13,
   "metadata": {},
   "outputs": [
    {
     "data": {
      "text/plain": [
       "'0'"
      ]
     },
     "execution_count": 13,
     "metadata": {},
     "output_type": "execute_result"
    }
   ],
   "source": [
    "str(int(8.647442e-04))"
   ]
  },
  {
   "cell_type": "code",
   "execution_count": 25,
   "metadata": {},
   "outputs": [
    {
     "ename": "NameError",
     "evalue": "name 'df_dummy' is not defined",
     "output_type": "error",
     "traceback": [
      "\u001b[1;31m---------------------------------------------------------------------------\u001b[0m",
      "\u001b[1;31mNameError\u001b[0m                                 Traceback (most recent call last)",
      "\u001b[1;32m<ipython-input-25-5c6a8c5303b5>\u001b[0m in \u001b[0;36m<module>\u001b[1;34m\u001b[0m\n\u001b[1;32m----> 1\u001b[1;33m \u001b[0mdf_dummy\u001b[0m\u001b[1;33m\u001b[0m\u001b[1;33m\u001b[0m\u001b[0m\n\u001b[0m",
      "\u001b[1;31mNameError\u001b[0m: name 'df_dummy' is not defined"
     ]
    }
   ],
   "source": [
    "df_dummy"
   ]
  }
 ],
 "metadata": {
  "kernelspec": {
   "display_name": "Python 3",
   "language": "python",
   "name": "python3"
  },
  "language_info": {
   "codemirror_mode": {
    "name": "ipython",
    "version": 3
   },
   "file_extension": ".py",
   "mimetype": "text/x-python",
   "name": "python",
   "nbconvert_exporter": "python",
   "pygments_lexer": "ipython3",
   "version": "3.7.4"
  }
 },
 "nbformat": 4,
 "nbformat_minor": 2
}
