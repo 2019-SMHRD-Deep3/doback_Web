{
<<<<<<< HEAD
 "cells": [],
 "metadata": {},
=======
 "cells": [
  {
   "cell_type": "code",
   "execution_count": 26,
   "metadata": {},
   "outputs": [
    {
     "name": "stdout",
     "output_type": "stream",
     "text": [
      "Requirement already satisfied: Werkzeug==0.16.0 in c:\\users\\sm004\\.conda\\envs\\test\\lib\\site-packages (0.16.0)\n"
     ]
    }
   ],
   "source": [
    "!pip install Werkzeug==0.16.0"
   ]
  },
  {
   "cell_type": "code",
   "execution_count": 22,
   "metadata": {},
   "outputs": [
    {
     "name": "stdout",
     "output_type": "stream",
     "text": [
      "Requirement already satisfied: matplotlib==3.1.1 in c:\\users\\sm004\\.conda\\envs\\test\\lib\\site-packages (3.1.1)\n",
      "Requirement already satisfied: python-dateutil>=2.1 in c:\\users\\sm004\\.conda\\envs\\test\\lib\\site-packages (from matplotlib==3.1.1) (2.8.1)\n",
      "Requirement already satisfied: numpy>=1.11 in c:\\users\\sm004\\.conda\\envs\\test\\lib\\site-packages (from matplotlib==3.1.1) (1.16.5)\n",
      "Requirement already satisfied: cycler>=0.10 in c:\\users\\sm004\\.conda\\envs\\test\\lib\\site-packages (from matplotlib==3.1.1) (0.10.0)\n",
      "Requirement already satisfied: pyparsing!=2.0.4,!=2.1.2,!=2.1.6,>=2.0.1 in c:\\users\\sm004\\.conda\\envs\\test\\lib\\site-packages (from matplotlib==3.1.1) (2.4.7)\n",
      "Requirement already satisfied: kiwisolver>=1.0.1 in c:\\users\\sm004\\.conda\\envs\\test\\lib\\site-packages (from matplotlib==3.1.1) (1.2.0)\n",
      "Requirement already satisfied: six>=1.5 in c:\\users\\sm004\\.conda\\envs\\test\\lib\\site-packages (from python-dateutil>=2.1->matplotlib==3.1.1) (1.14.0)\n"
     ]
    }
   ],
   "source": [
    "!pip install --user matplotlib==3.1.1"
   ]
  },
  {
   "cell_type": "code",
   "execution_count": 23,
   "metadata": {},
   "outputs": [
    {
     "name": "stdout",
     "output_type": "stream",
     "text": [
      "Requirement already satisfied: Pillow==6.2.0 in c:\\users\\sm004\\.conda\\envs\\test\\lib\\site-packages (6.2.0)\n"
     ]
    }
   ],
   "source": [
    "!pip install --user Pillow==6.2.0"
   ]
  },
  {
   "cell_type": "code",
   "execution_count": 24,
   "metadata": {},
   "outputs": [
    {
     "name": "stdout",
     "output_type": "stream",
     "text": [
      "Requirement already satisfied: numpy==1.16.5 in c:\\users\\sm004\\.conda\\envs\\test\\lib\\site-packages (1.16.5)\n"
     ]
    }
   ],
   "source": [
    "!pip install --user numpy==1.16.5"
   ]
  },
  {
   "cell_type": "code",
   "execution_count": 19,
   "metadata": {},
   "outputs": [
    {
     "name": "stdout",
     "output_type": "stream",
     "text": [
      "Requirement already satisfied: librosa==0.7.2 in c:\\users\\sm004\\.conda\\envs\\test\\lib\\site-packages (0.7.2)\n",
      "Requirement already satisfied: audioread>=2.0.0 in c:\\users\\sm004\\.conda\\envs\\test\\lib\\site-packages (from librosa==0.7.2) (2.1.8)\n",
      "Requirement already satisfied: six>=1.3 in c:\\users\\sm004\\.conda\\envs\\test\\lib\\site-packages (from librosa==0.7.2) (1.14.0)\n",
      "Requirement already satisfied: numba>=0.43.0 in c:\\users\\sm004\\.conda\\envs\\test\\lib\\site-packages (from librosa==0.7.2) (0.49.0)\n",
      "Requirement already satisfied: decorator>=3.0.0 in c:\\users\\sm004\\.conda\\envs\\test\\lib\\site-packages (from librosa==0.7.2) (4.4.2)\n",
      "Requirement already satisfied: scipy>=1.0.0 in c:\\users\\sm004\\.conda\\envs\\test\\lib\\site-packages (from librosa==0.7.2) (1.4.1)\n",
      "Requirement already satisfied: soundfile>=0.9.0 in c:\\users\\sm004\\.conda\\envs\\test\\lib\\site-packages (from librosa==0.7.2) (0.10.3.post1)\n",
      "Requirement already satisfied: joblib>=0.12 in c:\\users\\sm004\\.conda\\envs\\test\\lib\\site-packages (from librosa==0.7.2) (0.14.1)\n",
      "Requirement already satisfied: scikit-learn!=0.19.0,>=0.14.0 in c:\\users\\sm004\\.conda\\envs\\test\\lib\\site-packages (from librosa==0.7.2) (0.22.2.post1)\n",
      "Requirement already satisfied: numpy>=1.15.0 in c:\\users\\sm004\\.conda\\envs\\test\\lib\\site-packages (from librosa==0.7.2) (1.16.5)\n",
      "Requirement already satisfied: resampy>=0.2.2 in c:\\users\\sm004\\.conda\\envs\\test\\lib\\site-packages (from librosa==0.7.2) (0.2.2)\n",
      "Requirement already satisfied: llvmlite<=0.33.0.dev0,>=0.31.0.dev0 in c:\\users\\sm004\\.conda\\envs\\test\\lib\\site-packages (from numba>=0.43.0->librosa==0.7.2) (0.32.0)\n",
      "Requirement already satisfied: setuptools in c:\\users\\sm004\\.conda\\envs\\test\\lib\\site-packages (from numba>=0.43.0->librosa==0.7.2) (46.1.3.post20200330)\n",
      "Requirement already satisfied: cffi>=1.0 in c:\\users\\sm004\\.conda\\envs\\test\\lib\\site-packages (from soundfile>=0.9.0->librosa==0.7.2) (1.14.0)\n",
      "Requirement already satisfied: pycparser in c:\\users\\sm004\\.conda\\envs\\test\\lib\\site-packages (from cffi>=1.0->soundfile>=0.9.0->librosa==0.7.2) (2.20)\n"
     ]
    }
   ],
   "source": [
    "!pip install librosa==0.7.2"
   ]
  },
  {
   "cell_type": "code",
   "execution_count": 20,
   "metadata": {},
   "outputs": [
    {
     "name": "stdout",
     "output_type": "stream",
     "text": [
      "Requirement already satisfied: tensorflow==2.1.0 in c:\\users\\sm004\\.conda\\envs\\test\\lib\\site-packages (2.1.0)\n",
      "Requirement already satisfied: grpcio>=1.8.6 in c:\\users\\sm004\\.conda\\envs\\test\\lib\\site-packages (from tensorflow==2.1.0) (1.27.2)\n",
      "Requirement already satisfied: google-pasta>=0.1.6 in c:\\users\\sm004\\.conda\\envs\\test\\lib\\site-packages (from tensorflow==2.1.0) (0.2.0)\n",
      "Requirement already satisfied: termcolor>=1.1.0 in c:\\users\\sm004\\.conda\\envs\\test\\lib\\site-packages (from tensorflow==2.1.0) (1.1.0)\n",
      "Requirement already satisfied: tensorflow-estimator<2.2.0,>=2.1.0rc0 in c:\\users\\sm004\\.conda\\envs\\test\\lib\\site-packages (from tensorflow==2.1.0) (2.1.0)\n",
      "Requirement already satisfied: numpy<2.0,>=1.16.0 in c:\\users\\sm004\\.conda\\envs\\test\\lib\\site-packages (from tensorflow==2.1.0) (1.16.5)\n",
      "Requirement already satisfied: protobuf>=3.8.0 in c:\\users\\sm004\\.conda\\envs\\test\\lib\\site-packages (from tensorflow==2.1.0) (3.11.4)\n",
      "Requirement already satisfied: wrapt>=1.11.1 in c:\\users\\sm004\\.conda\\envs\\test\\lib\\site-packages (from tensorflow==2.1.0) (1.12.1)\n",
      "Requirement already satisfied: six>=1.12.0 in c:\\users\\sm004\\.conda\\envs\\test\\lib\\site-packages (from tensorflow==2.1.0) (1.14.0)\n",
      "Requirement already satisfied: gast==0.2.2 in c:\\users\\sm004\\.conda\\envs\\test\\lib\\site-packages (from tensorflow==2.1.0) (0.2.2)\n",
      "Requirement already satisfied: astor>=0.6.0 in c:\\users\\sm004\\.conda\\envs\\test\\lib\\site-packages (from tensorflow==2.1.0) (0.8.0)\n",
      "Requirement already satisfied: absl-py>=0.7.0 in c:\\users\\sm004\\.conda\\envs\\test\\lib\\site-packages (from tensorflow==2.1.0) (0.9.0)\n",
      "Requirement already satisfied: opt-einsum>=2.3.2 in c:\\users\\sm004\\.conda\\envs\\test\\lib\\site-packages (from tensorflow==2.1.0) (3.1.0)\n",
      "Requirement already satisfied: tensorboard<2.2.0,>=2.1.0 in c:\\users\\sm004\\.conda\\envs\\test\\lib\\site-packages (from tensorflow==2.1.0) (2.1.0)\n",
      "Requirement already satisfied: wheel>=0.26; python_version >= \"3\" in c:\\users\\sm004\\.conda\\envs\\test\\lib\\site-packages (from tensorflow==2.1.0) (0.34.2)\n",
      "Requirement already satisfied: keras-preprocessing>=1.1.0 in c:\\users\\sm004\\.conda\\envs\\test\\lib\\site-packages (from tensorflow==2.1.0) (1.1.0)\n",
      "Requirement already satisfied: keras-applications>=1.0.8 in c:\\users\\sm004\\.conda\\envs\\test\\lib\\site-packages (from tensorflow==2.1.0) (1.0.8)\n",
      "Requirement already satisfied: scipy==1.4.1; python_version >= \"3\" in c:\\users\\sm004\\.conda\\envs\\test\\lib\\site-packages (from tensorflow==2.1.0) (1.4.1)\n",
      "Requirement already satisfied: setuptools in c:\\users\\sm004\\.conda\\envs\\test\\lib\\site-packages (from protobuf>=3.8.0->tensorflow==2.1.0) (46.1.3.post20200330)\n",
      "Requirement already satisfied: google-auth-oauthlib<0.5,>=0.4.1 in c:\\users\\sm004\\.conda\\envs\\test\\lib\\site-packages (from tensorboard<2.2.0,>=2.1.0->tensorflow==2.1.0) (0.4.1)\n",
      "Requirement already satisfied: markdown>=2.6.8 in c:\\users\\sm004\\.conda\\envs\\test\\lib\\site-packages (from tensorboard<2.2.0,>=2.1.0->tensorflow==2.1.0) (3.1.1)\n",
      "Requirement already satisfied: werkzeug>=0.11.15 in c:\\users\\sm004\\.conda\\envs\\test\\lib\\site-packages (from tensorboard<2.2.0,>=2.1.0->tensorflow==2.1.0) (0.16.0)\n",
      "Requirement already satisfied: google-auth<2,>=1.6.3 in c:\\users\\sm004\\.conda\\envs\\test\\lib\\site-packages (from tensorboard<2.2.0,>=2.1.0->tensorflow==2.1.0) (1.14.1)\n",
      "Requirement already satisfied: requests<3,>=2.21.0 in c:\\users\\sm004\\.conda\\envs\\test\\lib\\site-packages (from tensorboard<2.2.0,>=2.1.0->tensorflow==2.1.0) (2.23.0)\n",
      "Requirement already satisfied: h5py in c:\\users\\sm004\\.conda\\envs\\test\\lib\\site-packages (from keras-applications>=1.0.8->tensorflow==2.1.0) (2.10.0)\n",
      "Requirement already satisfied: requests-oauthlib>=0.7.0 in c:\\users\\sm004\\.conda\\envs\\test\\lib\\site-packages (from google-auth-oauthlib<0.5,>=0.4.1->tensorboard<2.2.0,>=2.1.0->tensorflow==2.1.0) (1.3.0)\n",
      "Requirement already satisfied: rsa<4.1,>=3.1.4 in c:\\users\\sm004\\.conda\\envs\\test\\lib\\site-packages (from google-auth<2,>=1.6.3->tensorboard<2.2.0,>=2.1.0->tensorflow==2.1.0) (4.0)\n",
      "Requirement already satisfied: cachetools<5.0,>=2.0.0 in c:\\users\\sm004\\.conda\\envs\\test\\lib\\site-packages (from google-auth<2,>=1.6.3->tensorboard<2.2.0,>=2.1.0->tensorflow==2.1.0) (3.1.1)\n",
      "Requirement already satisfied: pyasn1-modules>=0.2.1 in c:\\users\\sm004\\.conda\\envs\\test\\lib\\site-packages (from google-auth<2,>=1.6.3->tensorboard<2.2.0,>=2.1.0->tensorflow==2.1.0) (0.2.7)\n",
      "Requirement already satisfied: idna<3,>=2.5 in c:\\users\\sm004\\.conda\\envs\\test\\lib\\site-packages (from requests<3,>=2.21.0->tensorboard<2.2.0,>=2.1.0->tensorflow==2.1.0) (2.9)\n",
      "Requirement already satisfied: certifi>=2017.4.17 in c:\\users\\sm004\\.conda\\envs\\test\\lib\\site-packages (from requests<3,>=2.21.0->tensorboard<2.2.0,>=2.1.0->tensorflow==2.1.0) (2020.4.5.1)\n",
      "Requirement already satisfied: chardet<4,>=3.0.2 in c:\\users\\sm004\\.conda\\envs\\test\\lib\\site-packages (from requests<3,>=2.21.0->tensorboard<2.2.0,>=2.1.0->tensorflow==2.1.0) (3.0.4)\n",
      "Requirement already satisfied: urllib3!=1.25.0,!=1.25.1,<1.26,>=1.21.1 in c:\\users\\sm004\\.conda\\envs\\test\\lib\\site-packages (from requests<3,>=2.21.0->tensorboard<2.2.0,>=2.1.0->tensorflow==2.1.0) (1.25.8)\n",
      "Requirement already satisfied: oauthlib>=3.0.0 in c:\\users\\sm004\\.conda\\envs\\test\\lib\\site-packages (from requests-oauthlib>=0.7.0->google-auth-oauthlib<0.5,>=0.4.1->tensorboard<2.2.0,>=2.1.0->tensorflow==2.1.0) (3.1.0)\n",
      "Requirement already satisfied: pyasn1>=0.1.3 in c:\\users\\sm004\\.conda\\envs\\test\\lib\\site-packages (from rsa<4.1,>=3.1.4->google-auth<2,>=1.6.3->tensorboard<2.2.0,>=2.1.0->tensorflow==2.1.0) (0.4.8)\n"
     ]
    }
   ],
   "source": [
    "!pip install tensorflow==2.1.0"
   ]
  },
  {
   "cell_type": "code",
   "execution_count": 21,
   "metadata": {},
   "outputs": [
    {
     "name": "stdout",
     "output_type": "stream",
     "text": [
      "Requirement already satisfied: python-speech-features==0.6 in c:\\users\\sm004\\.conda\\envs\\test\\lib\\site-packages (0.6)\n"
     ]
    }
   ],
   "source": [
    "!pip install python-speech-features==0.6"
   ]
  },
  {
   "cell_type": "code",
   "execution_count": 14,
   "metadata": {},
   "outputs": [
    {
     "name": "stdout",
     "output_type": "stream",
     "text": [
      "Collecting Flask==1.1.1\n",
      "  Downloading Flask-1.1.1-py2.py3-none-any.whl (94 kB)\n",
      "Requirement already satisfied: Werkzeug>=0.15 in c:\\users\\sm004\\appdata\\roaming\\python\\python36\\site-packages (from Flask==1.1.1) (1.0.1)\n",
      "Requirement already satisfied: click>=5.1 in c:\\users\\sm004\\.conda\\envs\\test\\lib\\site-packages (from Flask==1.1.1) (7.1.1)\n",
      "Requirement already satisfied: itsdangerous>=0.24 in c:\\users\\sm004\\appdata\\roaming\\python\\python36\\site-packages (from Flask==1.1.1) (1.1.0)\n",
      "Requirement already satisfied: Jinja2>=2.10.1 in c:\\users\\sm004\\.conda\\envs\\test\\lib\\site-packages (from Flask==1.1.1) (2.11.2)\n",
      "Requirement already satisfied: MarkupSafe>=0.23 in c:\\users\\sm004\\.conda\\envs\\test\\lib\\site-packages (from Jinja2>=2.10.1->Flask==1.1.1) (1.1.1)\n",
      "Installing collected packages: Flask\n",
      "  Attempting uninstall: Flask\n",
      "    Found existing installation: Flask 1.1.2\n",
      "    Uninstalling Flask-1.1.2:\n",
      "      Successfully uninstalled Flask-1.1.2\n",
      "Successfully installed Flask-1.1.1\n"
     ]
    }
   ],
   "source": [
    "!pip install Flask==1.1.1"
   ]
  },
  {
   "cell_type": "code",
   "execution_count": 7,
   "metadata": {},
   "outputs": [
    {
     "name": "stdout",
     "output_type": "stream",
     "text": [
      "Collecting pillow\n",
      "  Downloading Pillow-7.1.2-cp36-cp36m-win_amd64.whl (2.0 MB)\n",
      "Installing collected packages: pillow\n",
      "Successfully installed pillow-7.1.2\n"
     ]
    }
   ],
   "source": [
    "!pip install pillow"
   ]
  },
  {
   "cell_type": "code",
   "execution_count": 5,
   "metadata": {},
   "outputs": [
    {
     "name": "stdout",
     "output_type": "stream",
     "text": [
      "Collecting matplotlib\n",
      "  Using cached matplotlib-3.2.1-cp36-cp36m-win_amd64.whl (9.2 MB)\n",
      "Collecting cycler>=0.10\n",
      "  Using cached cycler-0.10.0-py2.py3-none-any.whl (6.5 kB)\n",
      "Requirement already satisfied: python-dateutil>=2.1 in c:\\users\\sm004\\.conda\\envs\\test\\lib\\site-packages (from matplotlib) (2.8.1)\n",
      "Requirement already satisfied: numpy>=1.11 in c:\\users\\sm004\\.conda\\envs\\test\\lib\\site-packages (from matplotlib) (1.18.1)\n",
      "Collecting kiwisolver>=1.0.1\n",
      "  Downloading kiwisolver-1.2.0-cp36-none-win_amd64.whl (57 kB)\n",
      "Collecting pyparsing!=2.0.4,!=2.1.2,!=2.1.6,>=2.0.1\n",
      "  Downloading pyparsing-2.4.7-py2.py3-none-any.whl (67 kB)\n",
      "Requirement already satisfied: six in c:\\users\\sm004\\.conda\\envs\\test\\lib\\site-packages (from cycler>=0.10->matplotlib) (1.14.0)\n",
      "Installing collected packages: cycler, kiwisolver, pyparsing, matplotlib\n",
      "Successfully installed cycler-0.10.0 kiwisolver-1.2.0 matplotlib-3.2.1 pyparsing-2.4.7\n"
     ]
    }
   ],
   "source": [
    "!pip install matplotlib"
   ]
  },
  {
   "cell_type": "code",
   "execution_count": 9,
   "metadata": {
    "collapsed": true
   },
   "outputs": [
    {
     "name": "stdout",
     "output_type": "stream",
     "text": [
      "Collecting librosa\n",
      "  Using cached librosa-0.7.2.tar.gz (1.6 MB)\n",
      "Collecting audioread>=2.0.0\n",
      "  Using cached audioread-2.1.8.tar.gz (21 kB)\n",
      "Requirement already satisfied: numpy>=1.15.0 in c:\\users\\sm004\\.conda\\envs\\test\\lib\\site-packages (from librosa) (1.18.1)\n",
      "Requirement already satisfied: scipy>=1.0.0 in c:\\users\\sm004\\.conda\\envs\\test\\lib\\site-packages (from librosa) (1.4.1)\n",
      "Collecting scikit-learn!=0.19.0,>=0.14.0\n",
      "  Using cached scikit_learn-0.22.2.post1-cp36-cp36m-win_amd64.whl (6.5 MB)\n",
      "Collecting joblib>=0.12\n",
      "  Using cached joblib-0.14.1-py2.py3-none-any.whl (294 kB)\n",
      "Requirement already satisfied: decorator>=3.0.0 in c:\\users\\sm004\\.conda\\envs\\test\\lib\\site-packages (from librosa) (4.4.2)\n",
      "Requirement already satisfied: six>=1.3 in c:\\users\\sm004\\.conda\\envs\\test\\lib\\site-packages (from librosa) (1.14.0)\n",
      "Collecting resampy>=0.2.2\n",
      "  Using cached resampy-0.2.2.tar.gz (323 kB)\n",
      "Collecting numba>=0.43.0\n",
      "  Downloading numba-0.49.0-cp36-cp36m-win_amd64.whl (2.1 MB)\n",
      "Collecting soundfile>=0.9.0\n",
      "  Using cached SoundFile-0.10.3.post1-py2.py3.cp26.cp27.cp32.cp33.cp34.cp35.cp36.pp27.pp32.pp33-none-win_amd64.whl (689 kB)\n",
      "Requirement already satisfied: setuptools in c:\\users\\sm004\\.conda\\envs\\test\\lib\\site-packages (from numba>=0.43.0->librosa) (46.1.3.post20200330)\n",
      "Collecting llvmlite<=0.33.0.dev0,>=0.31.0.dev0\n",
      "  Downloading llvmlite-0.32.0-cp36-cp36m-win_amd64.whl (13.6 MB)\n",
      "Requirement already satisfied: cffi>=1.0 in c:\\users\\sm004\\.conda\\envs\\test\\lib\\site-packages (from soundfile>=0.9.0->librosa) (1.14.0)\n",
      "Requirement already satisfied: pycparser in c:\\users\\sm004\\.conda\\envs\\test\\lib\\site-packages (from cffi>=1.0->soundfile>=0.9.0->librosa) (2.20)\n",
      "Building wheels for collected packages: librosa, audioread, resampy\n",
      "  Building wheel for librosa (setup.py): started\n",
      "  Building wheel for librosa (setup.py): finished with status 'done'\n",
      "  Created wheel for librosa: filename=librosa-0.7.2-py3-none-any.whl size=1612890 sha256=b16422669646d7a45a72f98bdeacb9edf8e553399ceeebb88f8035e38a0f72f7\n",
      "  Stored in directory: c:\\users\\sm004\\appdata\\local\\pip\\cache\\wheels\\cb\\1d\\15\\a479fa740849128d481333d2f354f97691be3e2c82480a3e00\n",
      "  Building wheel for audioread (setup.py): started\n",
      "  Building wheel for audioread (setup.py): finished with status 'done'\n",
      "  Created wheel for audioread: filename=audioread-2.1.8-py3-none-any.whl size=23095 sha256=7bb4837e50ea059152e25ce60a74a6b5b2f2e49c61d3c4772aea3c316dbd652b\n",
      "  Stored in directory: c:\\users\\sm004\\appdata\\local\\pip\\cache\\wheels\\1d\\9a\\c7\\249a5daf5cb90d9786afaec371cba9dc43f04f916db5d1caff\n",
      "  Building wheel for resampy (setup.py): started\n",
      "  Building wheel for resampy (setup.py): finished with status 'done'\n",
      "  Created wheel for resampy: filename=resampy-0.2.2-py3-none-any.whl size=320723 sha256=6fa308dc9d867d7a2287f9923d37643305e405f4f80dc78cb700f1486ae54680\n",
      "  Stored in directory: c:\\users\\sm004\\appdata\\local\\pip\\cache\\wheels\\cf\\d4\\04\\49d8824a42bd9f9b11d502727965b9997f0d41d2b22ae4f645\n",
      "Successfully built librosa audioread resampy\n",
      "Installing collected packages: audioread, joblib, scikit-learn, llvmlite, numba, resampy, soundfile, librosa\n",
      "Successfully installed audioread-2.1.8 joblib-0.14.1 librosa-0.7.2 llvmlite-0.32.0 numba-0.49.0 resampy-0.2.2 scikit-learn-0.22.2.post1 soundfile-0.10.3.post1\n"
     ]
    }
   ],
   "source": [
    "!pip install librosa"
   ]
  },
  {
   "cell_type": "code",
   "execution_count": 10,
   "metadata": {},
   "outputs": [
    {
     "name": "stdout",
     "output_type": "stream",
     "text": [
      "Requirement already satisfied: Werkzeug in c:\\users\\sm004\\appdata\\roaming\\python\\python36\\site-packages (1.0.1)\n"
     ]
    }
   ],
   "source": [
    "!pip install Werkzeug"
   ]
  },
  {
   "cell_type": "code",
   "execution_count": 11,
   "metadata": {},
   "outputs": [
    {
     "name": "stdout",
     "output_type": "stream",
     "text": [
      "Collecting python_speech_features\n",
      "  Using cached python_speech_features-0.6.tar.gz (5.6 kB)\n",
      "Building wheels for collected packages: python-speech-features\n",
      "  Building wheel for python-speech-features (setup.py): started\n",
      "  Building wheel for python-speech-features (setup.py): finished with status 'done'\n",
      "  Created wheel for python-speech-features: filename=python_speech_features-0.6-py3-none-any.whl size=5892 sha256=d0d956d0fe7f9ac343f53fb0241c27066ab98b598dfce0edb14d9378b8d6e5f3\n",
      "  Stored in directory: c:\\users\\sm004\\appdata\\local\\pip\\cache\\wheels\\6e\\e3\\24\\f8faecfe9da17460cefd7bcdbe3c59ec476339e828fc667515\n",
      "Successfully built python-speech-features\n",
      "Installing collected packages: python-speech-features\n",
      "Successfully installed python-speech-features-0.6\n"
     ]
    }
   ],
   "source": [
    "!pip install python_speech_features"
   ]
  },
  {
   "cell_type": "code",
   "execution_count": 20,
   "metadata": {},
   "outputs": [
    {
     "name": "stdout",
     "output_type": "stream",
     "text": [
      "Requirement already satisfied: Flask in c:\\users\\sm004\\appdata\\roaming\\python\\python36\\site-packages (1.1.2)\n",
      "Requirement already satisfied: Werkzeug>=0.15 in c:\\users\\sm004\\appdata\\roaming\\python\\python36\\site-packages (from Flask) (1.0.1)\n",
      "Requirement already satisfied: click>=5.1 in c:\\users\\sm004\\.conda\\envs\\deep_cpu\\lib\\site-packages (from Flask) (7.1.1)\n",
      "Requirement already satisfied: Jinja2>=2.10.1 in c:\\users\\sm004\\.conda\\envs\\deep_cpu\\lib\\site-packages (from Flask) (2.11.1)\n",
      "Requirement already satisfied: itsdangerous>=0.24 in c:\\users\\sm004\\appdata\\roaming\\python\\python36\\site-packages (from Flask) (1.1.0)\n",
      "Requirement already satisfied: MarkupSafe>=0.23 in c:\\users\\sm004\\.conda\\envs\\deep_cpu\\lib\\site-packages (from Jinja2>=2.10.1->Flask) (1.1.1)\n"
     ]
    }
   ],
   "source": [
    "!pip install Flask"
   ]
  },
  {
   "cell_type": "code",
   "execution_count": 7,
   "metadata": {},
   "outputs": [
    {
     "name": "stdout",
     "output_type": "stream",
     "text": [
      "Collecting pip\n",
      "  Using cached pip-20.1-py2.py3-none-any.whl (1.5 MB)\n",
      "Installing collected packages: pip\n",
      "Successfully installed pip-20.1\n",
      "Note: you may need to restart the kernel to use updated packages.\n"
     ]
    },
    {
     "name": "stderr",
     "output_type": "stream",
     "text": [
      "  WARNING: The scripts pip.exe, pip3.6.exe and pip3.exe are installed in 'C:\\Users\\SM004\\AppData\\Roaming\\Python\\Python36\\Scripts' which is not on PATH.\n",
      "  Consider adding this directory to PATH or, if you prefer to suppress this warning, use --no-warn-script-location.\n"
     ]
    }
   ],
   "source": [
    "## pip install --user --upgrade pip"
   ]
  },
  {
   "cell_type": "code",
   "execution_count": 30,
   "metadata": {},
   "outputs": [
    {
     "name": "stdout",
     "output_type": "stream",
     "text": [
      "Collecting numba==0.48.0\n",
      "  Using cached numba-0.48.0-cp36-cp36m-win_amd64.whl (2.1 MB)\n",
      "Requirement already satisfied: setuptools in c:\\users\\sm004\\.conda\\envs\\test\\lib\\site-packages (from numba==0.48.0) (46.1.3.post20200330)\n",
      "Requirement already satisfied: numpy>=1.15 in c:\\users\\sm004\\.conda\\envs\\test\\lib\\site-packages (from numba==0.48.0) (1.16.5)\n",
      "Requirement already satisfied: llvmlite<0.32.0,>=0.31.0dev0 in c:\\users\\sm004\\.conda\\envs\\test\\lib\\site-packages (from numba==0.48.0) (0.31.0)\n",
      "Installing collected packages: numba\n",
      "Successfully installed numba-0.48.0\n"
     ]
    }
   ],
   "source": [
    "!pip install --user numba==0.48.0"
   ]
  },
  {
   "cell_type": "code",
   "execution_count": 32,
   "metadata": {},
   "outputs": [],
   "source": [
    "from flask import Flask, redirect, request\n",
    "from werkzeug.utils import secure_filename \n",
    "from matplotlib.pyplot import imread\n",
    "import matplotlib.pyplot as plt\n",
    "from PIL import Image\n",
    "import numpy as np\n",
    "import librosa\n",
    "from python_speech_features import mfcc\n",
    "import os\n",
    "import tensorflow as tf\n",
    "from tensorflow.keras.models import load_model\n",
    "final_model1= load_model('./model/STTfianl0503_006_0.958.hdf5')\n",
    "final_model2 = load_model('./model/STTUSUK0502_042_0.863.hdf5')\n",
    "\n",
    "\n",
    "def calc_features(filename):\n",
    "    y,sr = librosa.load(filename)\n",
    "    max_pad_len=600\n",
    "    #Melspectrogram\n",
    "    ms0 = librosa.feature.melspectrogram(y=y,sr=sr,n_fft=512,hop_length=256)\n",
    "    #데이터수가 max_pad_len보다 작으면 padding, 크면 잘라내기\n",
    "    pad_width = max_pad_len - ms0.shape[1]\n",
    "\n",
    "    if pad_width > 0:\n",
    "        y_melspec = np.pad(ms0, pad_width=((0,0),(0,pad_width)),mode='constant')\n",
    "    else:\n",
    "        y_melspec = ms0[...,:max_pad_len]\n",
    "\n",
    "    y_logmelspec = librosa.power_to_db(y_melspec, ref = np.median)\n",
    "\n",
    "    return y_logmelspec\n",
    "\n",
    "#from keras.models import load_model\n",
    "# model = load_model('')\n",
    "\n",
    "app = Flask(__name__)\n",
    "@app.route(\"/test\",methods=['GET','POST'])\n",
    "def test():\n",
    "    print('text1')\n",
    "    if request.method==\"POST\":\n",
    "        f = request.files.getlist(\"file[]\")\n",
    "        recordfiles1=[]\n",
    "        for i in f:\n",
    "            fname = './recorddata/'+str(secure_filename(i.filename))\n",
    "            recordfiles1.append(fname)\n",
    "            i.save(fname)#파일 저장\n",
    "    for i in recordfiles1:\n",
    "        print(i)\n",
    "        \n",
    "    \n",
    "    \n",
    "    \n",
    "    list1=[]\n",
    "    for j in recordfiles1:\n",
    "        a= calc_features(j)\n",
    "        list1.append(a)\n",
    "    for i in list1 :\n",
    "        print(list1)\n",
    "    list1 = np.array(list1)\n",
    "    length = len(list1)\n",
    "    print(length)\n",
    "#     for k in list1:\n",
    "#         k = k.reshape(1,128,600,1)\n",
    "    list1= list1.reshape(length,128,600,1)\n",
    "#    list1 = np.array(list1)\n",
    "    sim4=[]\n",
    "    sim5=[]\n",
    "#     for i in range(len(list1)):\n",
    "#         global sim2\n",
    "    sim2= final_model1.predict(list1)\n",
    "#         sim4.append(sim2[i][1])\n",
    "\n",
    "#     for i in range(len(list1)):\n",
    "#         global sim3\n",
    "    sim3 = final_model2.predict(list1)\n",
    "#        sim5.append(sim3)\n",
    "#     sim4.append(final_model1.predict(list1))\n",
    "#     sim5.append(final_model2.predict(list1))\n",
    "    sim10 = []\n",
    "    for u in range(len(sim2)):\n",
    "        sim10.append(sim2[u][1])\n",
    "\n",
    "    resultUS1 = []\n",
    "    for p in range(len(sim3)):\n",
    "        resultUS1.append(sim3[p][0])\n",
    "\n",
    "    resultUK1 = []\n",
    "    for p in range(len(sim3)):\n",
    "        resultUK1.append(sim3[p][1])\n",
    "    \n",
    "    resultUS = \"\"\n",
    "    for i in range(len(resultUS1)):\n",
    "        if i != len(resultUS1):\n",
    "            resultUS = resultUS + \"\" + str(resultUS1[i]*100)+\",\"\n",
    "        else :\n",
    "            resultUS = resultUS + \"\" + str(resultUS1[i]*100)\n",
    "    result\n",
    "    resultUK = \"\"\n",
    "    for i in range(len(resultUK1)):\n",
    "        if i != len(resultUS1):\n",
    "            resultUK = resultUK + \"\" + str(resultUK1[i]*100)+\",\"\n",
    "        else :\n",
    "            resultUK = resultUK + \"\" + str(resultUK1[i]*100)\n",
    "            \n",
    "    sim=\"\"\n",
    "    \n",
    "    for i in range(len(sim10)):\n",
    "        if i != len(sim10):\n",
    "            sim = sim + \"\" + str(sim10[i]*100)+\",\"\n",
    "        else :\n",
    "            sim = sim + \"\" + str(sim10[i]*100)\n",
    "    recordfiles=\"\"\n",
    "    for i in range(len(recordfiles1)):\n",
    "        if i != len(recordfiles1):\n",
    "            recordfiles = recordfiles + \"\" + str(recordfiles1[i])+\",\"\n",
    "        else :\n",
    "            recordfiles = recordfiles + \"\" + str(recordfiles1[i])\n",
    "    \n",
    "    return redirect(\"http://172.30.1.18:8087/Doback/Receivemfcc?result=\"+\n",
    "                    str(sim)+\"&resultUK=\"\n",
    "                    +str(resultUK)+\"&resultUS=\"+str(resultUS)+\n",
    "                   \"&record=\"+recordfiles+\"&word=sick\")\n",
    "\n",
    "\n",
    "# @app.route(\"/tt\",methods=['GET','POST'])\n",
    "# def tt():\n",
    "#     print('text2')\n",
    "#     if request.method==\"POST\":\n",
    "#         f = request.files[\"file\"]\n",
    "#         fname = './recorddata/'+str(secure_filename(f.filename)) \n",
    "#         ffname=''\n",
    "#         f.save(fname)#파일 저장\n",
    "        \n",
    "#     print(fname)\n",
    "#     list1=[]\n",
    "#     a= calc_features(fname)\n",
    "#     list1.append(a)\n",
    "#     list1 = np.array(list1)\n",
    "#     list1 = list1.reshape(1,128,600,1)\n",
    "#     sim2 =final_model2.predict(list1)\n",
    "#     sim=sim2[0][1]\n",
    "#     print(sim2)\n",
    "    \n",
    "    \n",
    "#     return redirect(\"http://172.30.1.18:8087/Doback/Receivemfcc?result=\"+str(sim))\n",
    "    \n",
    "if __name__ == '__main__':\n",
    "    from werkzeug.serving import run_simple\n",
    "    run_simple('172.30.1.18', 9000, app)"
   ]
  },
  {
   "cell_type": "code",
   "execution_count": null,
   "metadata": {},
   "outputs": [],
   "source": []
  },
  {
   "cell_type": "code",
   "execution_count": null,
   "metadata": {},
   "outputs": [],
   "source": []
  },
  {
   "cell_type": "code",
   "execution_count": null,
   "metadata": {},
   "outputs": [],
   "source": []
  },
  {
   "cell_type": "code",
   "execution_count": null,
   "metadata": {},
   "outputs": [],
   "source": []
  }
 ],
 "metadata": {
  "kernelspec": {
   "display_name": "Python 3",
   "language": "python",
   "name": "python3"
  },
  "language_info": {
   "codemirror_mode": {
    "name": "ipython",
    "version": 3
   },
   "file_extension": ".py",
   "mimetype": "text/x-python",
   "name": "python",
   "nbconvert_exporter": "python",
   "pygments_lexer": "ipython3",
   "version": "3.6.10"
  }
 },
>>>>>>> branch 'master' of https://github.com/2019-SMHRD-Deep3/doback_Web.git
 "nbformat": 4,
 "nbformat_minor": 2
}
